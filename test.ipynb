{
 "cells": [
  {
   "cell_type": "code",
   "execution_count": 1,
   "id": "initial_id",
   "metadata": {
    "collapsed": true,
    "ExecuteTime": {
     "end_time": "2024-04-07T11:00:46.738138200Z",
     "start_time": "2024-04-07T11:00:46.171418300Z"
    }
   },
   "outputs": [],
   "source": [
    "import numpy as np\n",
    "import matplotlib.pyplot as plt\n",
    "from ground import Ground\n",
    "\n",
    "\n",
    "def get_track_type(ground: Ground, track_elevation: np.ndarray) -> dict[str, np.ndarray]:\n",
    "    ds = ground.ds\n",
    "    start_horizontal_location = ground.bottom_left_corner_coordinates[0]\n",
    "\n",
    "    def index_to_location(_i):\n",
    "        return _i * ds + start_horizontal_location\n",
    "\n",
    "    cut, fill, tn, bg = [], [], [], []\n",
    "\n",
    "    for i in range(ground.num_s):\n",
    "        g = index_to_location(ground.e6g[i])\n",
    "        t = index_to_location(track_elevation[i])\n",
    "        if g == t:\n",
    "            continue\n",
    "        elif g - t > ground.ht_min:\n",
    "            tn.append([index_to_location(i), g - t])\n",
    "        elif g > t:\n",
    "            cut.append([index_to_location(i), g - t])\n",
    "        elif t - g > ground.hb_min:\n",
    "            bg.append([index_to_location(i), t - g])\n",
    "        else:\n",
    "            fill.append([index_to_location(i), t - g])\n",
    "    cut, fill, tn, bg = np.array(cut), np.array(fill), np.array(tn), np.array(bg)\n",
    "    res = {'cut': cut, 'fill': fill, 'tn': tn, 'bg': bg}\n",
    "    return res\n",
    "\n",
    "\n",
    "class Track:\n",
    "    def __init__(self, e: np.array, pi: np.array, ground: Ground = None) -> None:\n",
    "        self.e: np.array = e\n",
    "        self.pi: np.array = pi\n",
    "        self.ground: Ground = ground\n",
    "\n",
    "        pass\n",
    "\n",
    "    def get_plot_data(self):\n",
    "        ground_stair_points = self.ground.get_stair_plot_data()\n",
    "\n",
    "        track_type = get_track_type(ground=self.ground, track_elevation=self.e)\n",
    "        track_stair_points = np.zeros_like(ground_stair_points)\n",
    "        \n",
    "        \n"
   ]
  },
  {
   "cell_type": "code",
   "execution_count": 2,
   "outputs": [
    {
     "data": {
      "text/plain": "array([ 10,  34,  19,  19,  18,   9,  21,  15,  18,  21,  22,  23,  18,\n        10,   0,   0,  -6, -10, -10,  -4,  14,  30,  41,  34,  17,  10,\n         2,  10,  11,   5])"
     },
     "execution_count": 2,
     "metadata": {},
     "output_type": "execute_result"
    }
   ],
   "source": [
    "ground = Ground(\"gd2\")\n",
    "ground_points = ground.get_discrete_points()\n",
    "\n",
    "e = ground_points[:, 1].copy()\n",
    "e += 10\n",
    "e"
   ],
   "metadata": {
    "collapsed": false,
    "ExecuteTime": {
     "end_time": "2024-04-07T11:01:19.164466500Z",
     "start_time": "2024-04-07T11:01:19.142464100Z"
    }
   },
   "id": "d457175ac60b4f9a"
  },
  {
   "cell_type": "code",
   "execution_count": 17,
   "outputs": [
    {
     "data": {
      "text/plain": "array([198.        , 196.22580645, 194.4516129 , 192.67741935,\n       190.90322581, 189.12903226, 187.35483871, 185.58064516,\n       183.80645161, 182.03225806, 180.25806452, 178.48387097,\n       176.70967742, 174.93548387, 173.16129032, 171.38709677,\n       169.61290323, 167.83870968, 166.06451613, 164.29032258,\n       162.51612903, 160.74193548, 158.96774194, 157.19354839,\n       155.41935484, 153.64516129, 151.87096774, 150.09677419,\n       148.32258065, 146.5483871 , 144.77419355, 143.        ])"
     },
     "execution_count": 17,
     "metadata": {},
     "output_type": "execute_result"
    }
   ],
   "source": [
    "np.linspace(ground.e6g[0], ground.e6g[-1], ground.num_s+2)"
   ],
   "metadata": {
    "collapsed": false,
    "ExecuteTime": {
     "end_time": "2024-04-07T11:40:33.817440900Z",
     "start_time": "2024-04-07T11:40:33.802441300Z"
    }
   },
   "id": "bd82f9f60212926e"
  }
 ],
 "metadata": {
  "kernelspec": {
   "display_name": "Python 3",
   "language": "python",
   "name": "python3"
  },
  "language_info": {
   "codemirror_mode": {
    "name": "ipython",
    "version": 2
   },
   "file_extension": ".py",
   "mimetype": "text/x-python",
   "name": "python",
   "nbconvert_exporter": "python",
   "pygments_lexer": "ipython2",
   "version": "2.7.6"
  }
 },
 "nbformat": 4,
 "nbformat_minor": 5
}
